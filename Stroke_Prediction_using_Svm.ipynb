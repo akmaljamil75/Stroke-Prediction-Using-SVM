{
  "cells": [
    {
      "cell_type": "markdown",
      "metadata": {
        "id": "e2aad082"
      },
      "source": [
        "# Imports Library"
      ],
      "id": "e2aad082"
    },
    {
      "cell_type": "code",
      "execution_count": null,
      "metadata": {
        "id": "ddfe6f8f"
      },
      "outputs": [],
      "source": [
        "import numpy as np\n",
        "import pandas as pd\n",
        "import matplotlib.pyplot as plt\n",
        "import seaborn as sns\n",
        "sns.set_style('whitegrid')\n",
        "import warnings\n",
        "warnings.filterwarnings('ignore')\n",
        "from sklearn.metrics import mean_squared_error, r2_score, accuracy_score, confusion_matrix\n",
        "from sklearn.metrics import confusion_matrix, accuracy_score"
      ],
      "id": "ddfe6f8f"
    },
    {
      "cell_type": "markdown",
      "metadata": {
        "id": "f94bab08"
      },
      "source": [
        "# Load Data"
      ],
      "id": "f94bab08"
    },
    {
      "cell_type": "code",
      "execution_count": null,
      "metadata": {
        "colab": {
          "base_uri": "https://localhost:8080/",
          "height": 285
        },
        "id": "c40e38e4",
        "outputId": "8d499b05-16ae-42a3-8e8c-a9bdf9903601"
      },
      "outputs": [
        {
          "output_type": "execute_result",
          "data": {
            "text/plain": [
              "      id  gender   age  hypertension  heart_disease ever_married  \\\n",
              "0   9046    Male  67.0             0              1          Yes   \n",
              "1  51676  Female  61.0             0              0          Yes   \n",
              "2  31112    Male  80.0             0              1          Yes   \n",
              "3  60182  Female  49.0             0              0          Yes   \n",
              "4   1665  Female  79.0             1              0          Yes   \n",
              "\n",
              "       work_type Residence_type  avg_glucose_level   bmi   smoking_status  \\\n",
              "0        Private          Urban             228.69  36.6  formerly smoked   \n",
              "1  Self-employed          Rural             202.21   NaN     never smoked   \n",
              "2        Private          Rural             105.92  32.5     never smoked   \n",
              "3        Private          Urban             171.23  34.4           smokes   \n",
              "4  Self-employed          Rural             174.12  24.0     never smoked   \n",
              "\n",
              "   stroke  \n",
              "0       1  \n",
              "1       1  \n",
              "2       1  \n",
              "3       1  \n",
              "4       1  "
            ],
            "text/html": [
              "\n",
              "  <div id=\"df-b1c6d9ae-ec38-474e-92b8-9c1214c546b2\">\n",
              "    <div class=\"colab-df-container\">\n",
              "      <div>\n",
              "<style scoped>\n",
              "    .dataframe tbody tr th:only-of-type {\n",
              "        vertical-align: middle;\n",
              "    }\n",
              "\n",
              "    .dataframe tbody tr th {\n",
              "        vertical-align: top;\n",
              "    }\n",
              "\n",
              "    .dataframe thead th {\n",
              "        text-align: right;\n",
              "    }\n",
              "</style>\n",
              "<table border=\"1\" class=\"dataframe\">\n",
              "  <thead>\n",
              "    <tr style=\"text-align: right;\">\n",
              "      <th></th>\n",
              "      <th>id</th>\n",
              "      <th>gender</th>\n",
              "      <th>age</th>\n",
              "      <th>hypertension</th>\n",
              "      <th>heart_disease</th>\n",
              "      <th>ever_married</th>\n",
              "      <th>work_type</th>\n",
              "      <th>Residence_type</th>\n",
              "      <th>avg_glucose_level</th>\n",
              "      <th>bmi</th>\n",
              "      <th>smoking_status</th>\n",
              "      <th>stroke</th>\n",
              "    </tr>\n",
              "  </thead>\n",
              "  <tbody>\n",
              "    <tr>\n",
              "      <th>0</th>\n",
              "      <td>9046</td>\n",
              "      <td>Male</td>\n",
              "      <td>67.0</td>\n",
              "      <td>0</td>\n",
              "      <td>1</td>\n",
              "      <td>Yes</td>\n",
              "      <td>Private</td>\n",
              "      <td>Urban</td>\n",
              "      <td>228.69</td>\n",
              "      <td>36.6</td>\n",
              "      <td>formerly smoked</td>\n",
              "      <td>1</td>\n",
              "    </tr>\n",
              "    <tr>\n",
              "      <th>1</th>\n",
              "      <td>51676</td>\n",
              "      <td>Female</td>\n",
              "      <td>61.0</td>\n",
              "      <td>0</td>\n",
              "      <td>0</td>\n",
              "      <td>Yes</td>\n",
              "      <td>Self-employed</td>\n",
              "      <td>Rural</td>\n",
              "      <td>202.21</td>\n",
              "      <td>NaN</td>\n",
              "      <td>never smoked</td>\n",
              "      <td>1</td>\n",
              "    </tr>\n",
              "    <tr>\n",
              "      <th>2</th>\n",
              "      <td>31112</td>\n",
              "      <td>Male</td>\n",
              "      <td>80.0</td>\n",
              "      <td>0</td>\n",
              "      <td>1</td>\n",
              "      <td>Yes</td>\n",
              "      <td>Private</td>\n",
              "      <td>Rural</td>\n",
              "      <td>105.92</td>\n",
              "      <td>32.5</td>\n",
              "      <td>never smoked</td>\n",
              "      <td>1</td>\n",
              "    </tr>\n",
              "    <tr>\n",
              "      <th>3</th>\n",
              "      <td>60182</td>\n",
              "      <td>Female</td>\n",
              "      <td>49.0</td>\n",
              "      <td>0</td>\n",
              "      <td>0</td>\n",
              "      <td>Yes</td>\n",
              "      <td>Private</td>\n",
              "      <td>Urban</td>\n",
              "      <td>171.23</td>\n",
              "      <td>34.4</td>\n",
              "      <td>smokes</td>\n",
              "      <td>1</td>\n",
              "    </tr>\n",
              "    <tr>\n",
              "      <th>4</th>\n",
              "      <td>1665</td>\n",
              "      <td>Female</td>\n",
              "      <td>79.0</td>\n",
              "      <td>1</td>\n",
              "      <td>0</td>\n",
              "      <td>Yes</td>\n",
              "      <td>Self-employed</td>\n",
              "      <td>Rural</td>\n",
              "      <td>174.12</td>\n",
              "      <td>24.0</td>\n",
              "      <td>never smoked</td>\n",
              "      <td>1</td>\n",
              "    </tr>\n",
              "  </tbody>\n",
              "</table>\n",
              "</div>\n",
              "      <button class=\"colab-df-convert\" onclick=\"convertToInteractive('df-b1c6d9ae-ec38-474e-92b8-9c1214c546b2')\"\n",
              "              title=\"Convert this dataframe to an interactive table.\"\n",
              "              style=\"display:none;\">\n",
              "        \n",
              "  <svg xmlns=\"http://www.w3.org/2000/svg\" height=\"24px\"viewBox=\"0 0 24 24\"\n",
              "       width=\"24px\">\n",
              "    <path d=\"M0 0h24v24H0V0z\" fill=\"none\"/>\n",
              "    <path d=\"M18.56 5.44l.94 2.06.94-2.06 2.06-.94-2.06-.94-.94-2.06-.94 2.06-2.06.94zm-11 1L8.5 8.5l.94-2.06 2.06-.94-2.06-.94L8.5 2.5l-.94 2.06-2.06.94zm10 10l.94 2.06.94-2.06 2.06-.94-2.06-.94-.94-2.06-.94 2.06-2.06.94z\"/><path d=\"M17.41 7.96l-1.37-1.37c-.4-.4-.92-.59-1.43-.59-.52 0-1.04.2-1.43.59L10.3 9.45l-7.72 7.72c-.78.78-.78 2.05 0 2.83L4 21.41c.39.39.9.59 1.41.59.51 0 1.02-.2 1.41-.59l7.78-7.78 2.81-2.81c.8-.78.8-2.07 0-2.86zM5.41 20L4 18.59l7.72-7.72 1.47 1.35L5.41 20z\"/>\n",
              "  </svg>\n",
              "      </button>\n",
              "      \n",
              "  <style>\n",
              "    .colab-df-container {\n",
              "      display:flex;\n",
              "      flex-wrap:wrap;\n",
              "      gap: 12px;\n",
              "    }\n",
              "\n",
              "    .colab-df-convert {\n",
              "      background-color: #E8F0FE;\n",
              "      border: none;\n",
              "      border-radius: 50%;\n",
              "      cursor: pointer;\n",
              "      display: none;\n",
              "      fill: #1967D2;\n",
              "      height: 32px;\n",
              "      padding: 0 0 0 0;\n",
              "      width: 32px;\n",
              "    }\n",
              "\n",
              "    .colab-df-convert:hover {\n",
              "      background-color: #E2EBFA;\n",
              "      box-shadow: 0px 1px 2px rgba(60, 64, 67, 0.3), 0px 1px 3px 1px rgba(60, 64, 67, 0.15);\n",
              "      fill: #174EA6;\n",
              "    }\n",
              "\n",
              "    [theme=dark] .colab-df-convert {\n",
              "      background-color: #3B4455;\n",
              "      fill: #D2E3FC;\n",
              "    }\n",
              "\n",
              "    [theme=dark] .colab-df-convert:hover {\n",
              "      background-color: #434B5C;\n",
              "      box-shadow: 0px 1px 3px 1px rgba(0, 0, 0, 0.15);\n",
              "      filter: drop-shadow(0px 1px 2px rgba(0, 0, 0, 0.3));\n",
              "      fill: #FFFFFF;\n",
              "    }\n",
              "  </style>\n",
              "\n",
              "      <script>\n",
              "        const buttonEl =\n",
              "          document.querySelector('#df-b1c6d9ae-ec38-474e-92b8-9c1214c546b2 button.colab-df-convert');\n",
              "        buttonEl.style.display =\n",
              "          google.colab.kernel.accessAllowed ? 'block' : 'none';\n",
              "\n",
              "        async function convertToInteractive(key) {\n",
              "          const element = document.querySelector('#df-b1c6d9ae-ec38-474e-92b8-9c1214c546b2');\n",
              "          const dataTable =\n",
              "            await google.colab.kernel.invokeFunction('convertToInteractive',\n",
              "                                                     [key], {});\n",
              "          if (!dataTable) return;\n",
              "\n",
              "          const docLinkHtml = 'Like what you see? Visit the ' +\n",
              "            '<a target=\"_blank\" href=https://colab.research.google.com/notebooks/data_table.ipynb>data table notebook</a>'\n",
              "            + ' to learn more about interactive tables.';\n",
              "          element.innerHTML = '';\n",
              "          dataTable['output_type'] = 'display_data';\n",
              "          await google.colab.output.renderOutput(dataTable, element);\n",
              "          const docLink = document.createElement('div');\n",
              "          docLink.innerHTML = docLinkHtml;\n",
              "          element.appendChild(docLink);\n",
              "        }\n",
              "      </script>\n",
              "    </div>\n",
              "  </div>\n",
              "  "
            ]
          },
          "metadata": {},
          "execution_count": 17
        }
      ],
      "source": [
        "df = pd.read_csv('/content/healthcare-dataset-stroke-data.csv')\n",
        "df.head()"
      ],
      "id": "c40e38e4"
    },
    {
      "cell_type": "code",
      "execution_count": null,
      "metadata": {
        "id": "c7aff376",
        "colab": {
          "base_uri": "https://localhost:8080/"
        },
        "outputId": "09df4f64-1ba7-4654-e439-b90d9bfbbfa2"
      },
      "outputs": [
        {
          "output_type": "stream",
          "name": "stdout",
          "text": [
            "<class 'pandas.core.frame.DataFrame'>\n",
            "RangeIndex: 5110 entries, 0 to 5109\n",
            "Data columns (total 12 columns):\n",
            " #   Column             Non-Null Count  Dtype  \n",
            "---  ------             --------------  -----  \n",
            " 0   id                 5110 non-null   int64  \n",
            " 1   gender             5110 non-null   object \n",
            " 2   age                5110 non-null   float64\n",
            " 3   hypertension       5110 non-null   int64  \n",
            " 4   heart_disease      5110 non-null   int64  \n",
            " 5   ever_married       5110 non-null   object \n",
            " 6   work_type          5110 non-null   object \n",
            " 7   Residence_type     5110 non-null   object \n",
            " 8   avg_glucose_level  5110 non-null   float64\n",
            " 9   bmi                4909 non-null   float64\n",
            " 10  smoking_status     5110 non-null   object \n",
            " 11  stroke             5110 non-null   int64  \n",
            "dtypes: float64(3), int64(4), object(5)\n",
            "memory usage: 479.2+ KB\n"
          ]
        }
      ],
      "source": [
        "df.info()"
      ],
      "id": "c7aff376"
    },
    {
      "cell_type": "code",
      "execution_count": null,
      "metadata": {
        "id": "04dd98ea",
        "colab": {
          "base_uri": "https://localhost:8080/",
          "height": 300
        },
        "outputId": "ea6c0a16-4bb2-4299-ef7b-576948311ce7"
      },
      "outputs": [
        {
          "output_type": "execute_result",
          "data": {
            "text/plain": [
              "                 id          age  hypertension  heart_disease  \\\n",
              "count   5110.000000  5110.000000   5110.000000    5110.000000   \n",
              "mean   36517.829354    43.226614      0.097456       0.054012   \n",
              "std    21161.721625    22.612647      0.296607       0.226063   \n",
              "min       67.000000     0.080000      0.000000       0.000000   \n",
              "25%    17741.250000    25.000000      0.000000       0.000000   \n",
              "50%    36932.000000    45.000000      0.000000       0.000000   \n",
              "75%    54682.000000    61.000000      0.000000       0.000000   \n",
              "max    72940.000000    82.000000      1.000000       1.000000   \n",
              "\n",
              "       avg_glucose_level          bmi       stroke  \n",
              "count        5110.000000  4909.000000  5110.000000  \n",
              "mean          106.147677    28.893237     0.048728  \n",
              "std            45.283560     7.854067     0.215320  \n",
              "min            55.120000    10.300000     0.000000  \n",
              "25%            77.245000    23.500000     0.000000  \n",
              "50%            91.885000    28.100000     0.000000  \n",
              "75%           114.090000    33.100000     0.000000  \n",
              "max           271.740000    97.600000     1.000000  "
            ],
            "text/html": [
              "\n",
              "  <div id=\"df-422bf531-c7fe-48fb-9cfc-8cd22db010fd\">\n",
              "    <div class=\"colab-df-container\">\n",
              "      <div>\n",
              "<style scoped>\n",
              "    .dataframe tbody tr th:only-of-type {\n",
              "        vertical-align: middle;\n",
              "    }\n",
              "\n",
              "    .dataframe tbody tr th {\n",
              "        vertical-align: top;\n",
              "    }\n",
              "\n",
              "    .dataframe thead th {\n",
              "        text-align: right;\n",
              "    }\n",
              "</style>\n",
              "<table border=\"1\" class=\"dataframe\">\n",
              "  <thead>\n",
              "    <tr style=\"text-align: right;\">\n",
              "      <th></th>\n",
              "      <th>id</th>\n",
              "      <th>age</th>\n",
              "      <th>hypertension</th>\n",
              "      <th>heart_disease</th>\n",
              "      <th>avg_glucose_level</th>\n",
              "      <th>bmi</th>\n",
              "      <th>stroke</th>\n",
              "    </tr>\n",
              "  </thead>\n",
              "  <tbody>\n",
              "    <tr>\n",
              "      <th>count</th>\n",
              "      <td>5110.000000</td>\n",
              "      <td>5110.000000</td>\n",
              "      <td>5110.000000</td>\n",
              "      <td>5110.000000</td>\n",
              "      <td>5110.000000</td>\n",
              "      <td>4909.000000</td>\n",
              "      <td>5110.000000</td>\n",
              "    </tr>\n",
              "    <tr>\n",
              "      <th>mean</th>\n",
              "      <td>36517.829354</td>\n",
              "      <td>43.226614</td>\n",
              "      <td>0.097456</td>\n",
              "      <td>0.054012</td>\n",
              "      <td>106.147677</td>\n",
              "      <td>28.893237</td>\n",
              "      <td>0.048728</td>\n",
              "    </tr>\n",
              "    <tr>\n",
              "      <th>std</th>\n",
              "      <td>21161.721625</td>\n",
              "      <td>22.612647</td>\n",
              "      <td>0.296607</td>\n",
              "      <td>0.226063</td>\n",
              "      <td>45.283560</td>\n",
              "      <td>7.854067</td>\n",
              "      <td>0.215320</td>\n",
              "    </tr>\n",
              "    <tr>\n",
              "      <th>min</th>\n",
              "      <td>67.000000</td>\n",
              "      <td>0.080000</td>\n",
              "      <td>0.000000</td>\n",
              "      <td>0.000000</td>\n",
              "      <td>55.120000</td>\n",
              "      <td>10.300000</td>\n",
              "      <td>0.000000</td>\n",
              "    </tr>\n",
              "    <tr>\n",
              "      <th>25%</th>\n",
              "      <td>17741.250000</td>\n",
              "      <td>25.000000</td>\n",
              "      <td>0.000000</td>\n",
              "      <td>0.000000</td>\n",
              "      <td>77.245000</td>\n",
              "      <td>23.500000</td>\n",
              "      <td>0.000000</td>\n",
              "    </tr>\n",
              "    <tr>\n",
              "      <th>50%</th>\n",
              "      <td>36932.000000</td>\n",
              "      <td>45.000000</td>\n",
              "      <td>0.000000</td>\n",
              "      <td>0.000000</td>\n",
              "      <td>91.885000</td>\n",
              "      <td>28.100000</td>\n",
              "      <td>0.000000</td>\n",
              "    </tr>\n",
              "    <tr>\n",
              "      <th>75%</th>\n",
              "      <td>54682.000000</td>\n",
              "      <td>61.000000</td>\n",
              "      <td>0.000000</td>\n",
              "      <td>0.000000</td>\n",
              "      <td>114.090000</td>\n",
              "      <td>33.100000</td>\n",
              "      <td>0.000000</td>\n",
              "    </tr>\n",
              "    <tr>\n",
              "      <th>max</th>\n",
              "      <td>72940.000000</td>\n",
              "      <td>82.000000</td>\n",
              "      <td>1.000000</td>\n",
              "      <td>1.000000</td>\n",
              "      <td>271.740000</td>\n",
              "      <td>97.600000</td>\n",
              "      <td>1.000000</td>\n",
              "    </tr>\n",
              "  </tbody>\n",
              "</table>\n",
              "</div>\n",
              "      <button class=\"colab-df-convert\" onclick=\"convertToInteractive('df-422bf531-c7fe-48fb-9cfc-8cd22db010fd')\"\n",
              "              title=\"Convert this dataframe to an interactive table.\"\n",
              "              style=\"display:none;\">\n",
              "        \n",
              "  <svg xmlns=\"http://www.w3.org/2000/svg\" height=\"24px\"viewBox=\"0 0 24 24\"\n",
              "       width=\"24px\">\n",
              "    <path d=\"M0 0h24v24H0V0z\" fill=\"none\"/>\n",
              "    <path d=\"M18.56 5.44l.94 2.06.94-2.06 2.06-.94-2.06-.94-.94-2.06-.94 2.06-2.06.94zm-11 1L8.5 8.5l.94-2.06 2.06-.94-2.06-.94L8.5 2.5l-.94 2.06-2.06.94zm10 10l.94 2.06.94-2.06 2.06-.94-2.06-.94-.94-2.06-.94 2.06-2.06.94z\"/><path d=\"M17.41 7.96l-1.37-1.37c-.4-.4-.92-.59-1.43-.59-.52 0-1.04.2-1.43.59L10.3 9.45l-7.72 7.72c-.78.78-.78 2.05 0 2.83L4 21.41c.39.39.9.59 1.41.59.51 0 1.02-.2 1.41-.59l7.78-7.78 2.81-2.81c.8-.78.8-2.07 0-2.86zM5.41 20L4 18.59l7.72-7.72 1.47 1.35L5.41 20z\"/>\n",
              "  </svg>\n",
              "      </button>\n",
              "      \n",
              "  <style>\n",
              "    .colab-df-container {\n",
              "      display:flex;\n",
              "      flex-wrap:wrap;\n",
              "      gap: 12px;\n",
              "    }\n",
              "\n",
              "    .colab-df-convert {\n",
              "      background-color: #E8F0FE;\n",
              "      border: none;\n",
              "      border-radius: 50%;\n",
              "      cursor: pointer;\n",
              "      display: none;\n",
              "      fill: #1967D2;\n",
              "      height: 32px;\n",
              "      padding: 0 0 0 0;\n",
              "      width: 32px;\n",
              "    }\n",
              "\n",
              "    .colab-df-convert:hover {\n",
              "      background-color: #E2EBFA;\n",
              "      box-shadow: 0px 1px 2px rgba(60, 64, 67, 0.3), 0px 1px 3px 1px rgba(60, 64, 67, 0.15);\n",
              "      fill: #174EA6;\n",
              "    }\n",
              "\n",
              "    [theme=dark] .colab-df-convert {\n",
              "      background-color: #3B4455;\n",
              "      fill: #D2E3FC;\n",
              "    }\n",
              "\n",
              "    [theme=dark] .colab-df-convert:hover {\n",
              "      background-color: #434B5C;\n",
              "      box-shadow: 0px 1px 3px 1px rgba(0, 0, 0, 0.15);\n",
              "      filter: drop-shadow(0px 1px 2px rgba(0, 0, 0, 0.3));\n",
              "      fill: #FFFFFF;\n",
              "    }\n",
              "  </style>\n",
              "\n",
              "      <script>\n",
              "        const buttonEl =\n",
              "          document.querySelector('#df-422bf531-c7fe-48fb-9cfc-8cd22db010fd button.colab-df-convert');\n",
              "        buttonEl.style.display =\n",
              "          google.colab.kernel.accessAllowed ? 'block' : 'none';\n",
              "\n",
              "        async function convertToInteractive(key) {\n",
              "          const element = document.querySelector('#df-422bf531-c7fe-48fb-9cfc-8cd22db010fd');\n",
              "          const dataTable =\n",
              "            await google.colab.kernel.invokeFunction('convertToInteractive',\n",
              "                                                     [key], {});\n",
              "          if (!dataTable) return;\n",
              "\n",
              "          const docLinkHtml = 'Like what you see? Visit the ' +\n",
              "            '<a target=\"_blank\" href=https://colab.research.google.com/notebooks/data_table.ipynb>data table notebook</a>'\n",
              "            + ' to learn more about interactive tables.';\n",
              "          element.innerHTML = '';\n",
              "          dataTable['output_type'] = 'display_data';\n",
              "          await google.colab.output.renderOutput(dataTable, element);\n",
              "          const docLink = document.createElement('div');\n",
              "          docLink.innerHTML = docLinkHtml;\n",
              "          element.appendChild(docLink);\n",
              "        }\n",
              "      </script>\n",
              "    </div>\n",
              "  </div>\n",
              "  "
            ]
          },
          "metadata": {},
          "execution_count": 19
        }
      ],
      "source": [
        "df.describe()"
      ],
      "id": "04dd98ea"
    },
    {
      "cell_type": "markdown",
      "metadata": {
        "id": "l42YRj6Tj1YR"
      },
      "source": [
        "#EDA"
      ],
      "id": "l42YRj6Tj1YR"
    },
    {
      "cell_type": "code",
      "execution_count": null,
      "metadata": {
        "id": "sNLojniajB5l"
      },
      "outputs": [],
      "source": [
        "married = df[df['ever_married'] == 'Yes'].groupby(['stroke'])['ever_married'].count().reset_index()\n",
        "unmarried = df[df['ever_married'] == 'No'].groupby(['stroke'])['ever_married'].count().reset_index()"
      ],
      "id": "sNLojniajB5l"
    },
    {
      "cell_type": "code",
      "execution_count": null,
      "metadata": {
        "id": "80A_C6-tjfL7",
        "colab": {
          "base_uri": "https://localhost:8080/",
          "height": 374
        },
        "outputId": "596824cc-b012-4e88-f03a-6e59ae5d945a"
      },
      "outputs": [
        {
          "output_type": "display_data",
          "data": {
            "text/plain": [
              "<Figure size 1080x864 with 2 Axes>"
            ],
            "image/png": "[encoded data removed]"
          },
          "metadata": {}
        }
      ],
      "source": [
        "plt.figure(figsize=(15, 12))\n",
        "plt.subplot(2,2,1)\n",
        "plt.title('Married')\n",
        "sns.barplot(x='stroke', y='ever_married', hue='stroke', data=married)\n",
        "plt.subplot(2,2,2)\n",
        "plt.title('Unmarried')\n",
        "sns.barplot(x='stroke', y='ever_married', hue='stroke', data=unmarried)\n",
        "plt.show()"
      ],
      "id": "80A_C6-tjfL7"
    },
    {
      "cell_type": "code",
      "execution_count": null,
      "metadata": {
        "id": "B2OEXYdqiIOS",
        "colab": {
          "base_uri": "https://localhost:8080/",
          "height": 620
        },
        "outputId": "dd09e9b5-f22f-45c4-ab66-72e301792158"
      },
      "outputs": [
        {
          "output_type": "execute_result",
          "data": {
            "text/plain": [
              "<seaborn.axisgrid.FacetGrid at 0x7fe48a56ad10>"
            ]
          },
          "metadata": {},
          "execution_count": 22
        },
        {
          "output_type": "display_data",
          "data": {
            "text/plain": [
              "<Figure size 720x360 with 0 Axes>"
            ]
          },
          "metadata": {}
        },
        {
          "output_type": "display_data",
          "data": {
            "text/plain": [
              "<Figure size 618.375x576 with 1 Axes>"
            ],
            "image/png": "[encoded data removed]"
          },
          "metadata": {}
        }
      ],
      "source": [
        "plt.figure(figsize=(10,5))\n",
        "sns.catplot(data=df, \n",
        "            x=\"gender\", hue=\"stroke\",  \n",
        "            kind='count', height=8)"
      ],
      "id": "B2OEXYdqiIOS"
    },
    {
      "cell_type": "code",
      "execution_count": null,
      "metadata": {
        "id": "EPQR-XrQj4Es"
      },
      "outputs": [],
      "source": [
        "urban = df[df['Residence_type'] == 'Urban'].groupby(['stroke'])['Residence_type'].count().reset_index()\n",
        "rural = df[df['Residence_type'] == 'Rural'].groupby(['stroke'])['Residence_type'].count().reset_index()"
      ],
      "id": "EPQR-XrQj4Es"
    },
    {
      "cell_type": "code",
      "execution_count": null,
      "metadata": {
        "id": "PHe4rnJMj6E1",
        "colab": {
          "base_uri": "https://localhost:8080/",
          "height": 374
        },
        "outputId": "56d42838-7205-4be8-9665-58bc6079834d"
      },
      "outputs": [
        {
          "output_type": "display_data",
          "data": {
            "text/plain": [
              "<Figure size 1080x864 with 2 Axes>"
            ],
            "image/png": "[encoded data removed]"
          },
          "metadata": {}
        }
      ],
      "source": [
        "plt.figure(figsize=(15, 12))\n",
        "plt.subplot(2,2,1)\n",
        "plt.title('Urban')\n",
        "sns.barplot(x='stroke', y='Residence_type', hue='stroke', data=urban)\n",
        "plt.subplot(2,2,2)\n",
        "plt.title('Rural')\n",
        "sns.barplot(x='stroke', y='Residence_type', hue='stroke', data=rural)\n",
        "plt.show()"
      ],
      "id": "PHe4rnJMj6E1"
    },
    {
      "cell_type": "code",
      "execution_count": null,
      "metadata": {
        "id": "8b90JV-TkSFB"
      },
      "outputs": [],
      "source": [
        "private = df[df['work_type'] == 'Private'].groupby(['stroke'])['work_type'].count().reset_index()\n",
        "self_employed = df[df['work_type'] == 'Self-employed'].groupby(['stroke'])['work_type'].count().reset_index()\n",
        "govt_job = df[df['work_type'] == 'Govt_job'].groupby(['stroke'])['work_type'].count().reset_index()\n",
        "children = df[df['work_type'] == 'children'].groupby(['stroke'])['work_type'].count().reset_index()\n",
        "never_worked = df[df['work_type'] == 'Never_worked'].groupby(['stroke'])['work_type'].count().reset_index()"
      ],
      "id": "8b90JV-TkSFB"
    },
    {
      "cell_type": "code",
      "execution_count": null,
      "metadata": {
        "id": "9CmKh0vhk4A9",
        "colab": {
          "base_uri": "https://localhost:8080/",
          "height": 1000
        },
        "outputId": "670b79dd-d826-4b58-c9ef-f3fe2a2fde07"
      },
      "outputs": [
        {
          "output_type": "display_data",
          "data": {
            "text/plain": [
              "<Figure size 1080x864 with 4 Axes>"
            ],
            "image/png": "[encoded data removed]"
          },
          "metadata": {}
        },
        {
          "output_type": "display_data",
          "data": {
            "text/plain": [
              "<Figure size 432x288 with 1 Axes>"
            ],
            "image/png": "[encoded data removed]"
          },
          "metadata": {}
        }
      ],
      "source": [
        "plt.figure(figsize=(15, 12))\n",
        "plt.subplot(2,2,1)\n",
        "plt.title('Private')\n",
        "sns.barplot(x='stroke', y='work_type', hue='stroke', data=private)\n",
        "plt.subplot(2,2,2)\n",
        "plt.title('Self-employed')\n",
        "sns.barplot(x='stroke', y='work_type', hue='stroke', data=self_employed)\n",
        "plt.subplot(2,2,3)\n",
        "plt.title('Govt_job')\n",
        "sns.barplot(x='stroke', y='work_type', hue='stroke', data=govt_job)\n",
        "plt.subplot(2,2,4)\n",
        "plt.title('Children')\n",
        "sns.barplot(x='stroke', y='work_type', hue='stroke', data=children)\n",
        "plt.show()\n",
        "plt.title('Nver_worked')\n",
        "sns.barplot(x='stroke', y='work_type', hue='stroke', data=never_worked)\n",
        "plt.show()"
      ],
      "id": "9CmKh0vhk4A9"
    },
    {
      "cell_type": "code",
      "execution_count": null,
      "metadata": {
        "id": "x-ka9a6QmkXK"
      },
      "outputs": [],
      "source": [
        "formerly_smoked = df[df['smoking_status'] == 'formerly smoked'].groupby(['stroke'])['smoking_status'].count().reset_index()\n",
        "never_smoked = df[df['smoking_status'] == 'never smoked'].groupby(['stroke'])['smoking_status'].count().reset_index()\n",
        "smokes = df[df['smoking_status'] == 'smokes'].groupby(['stroke'])['smoking_status'].count().reset_index()\n",
        "unknown = df[df['smoking_status'] == 'Unknown'].groupby(['stroke'])['smoking_status'].count().reset_index()"
      ],
      "id": "x-ka9a6QmkXK"
    },
    {
      "cell_type": "code",
      "execution_count": null,
      "metadata": {
        "id": "KZUcMx3AmlUW",
        "colab": {
          "base_uri": "https://localhost:8080/",
          "height": 730
        },
        "outputId": "cbd4d5c3-db3e-4328-a473-c6cd760d19ec"
      },
      "outputs": [
        {
          "output_type": "display_data",
          "data": {
            "text/plain": [
              "<Figure size 1080x864 with 4 Axes>"
            ],
            "image/png": "[encoded data removed]"
          },
          "metadata": {}
        }
      ],
      "source": [
        "plt.figure(figsize=(15, 12))\n",
        "plt.subplot(2,2,1)\n",
        "plt.title('Formerly smoked')\n",
        "sns.barplot(x='stroke', y='smoking_status', hue='stroke', data=formerly_smoked)\n",
        "plt.subplot(2,2,2)\n",
        "plt.title('Never smoked')\n",
        "sns.barplot(x='stroke', y='smoking_status', hue='stroke', data=never_smoked)\n",
        "plt.subplot(2,2,3)\n",
        "plt.title('Smokes')\n",
        "sns.barplot(x='stroke', y='smoking_status', hue='stroke', data=smokes)\n",
        "plt.subplot(2,2,4)\n",
        "plt.title('Unknown')\n",
        "sns.barplot(x='stroke', y='smoking_status', hue='stroke', data=unknown)\n",
        "plt.show()"
      ],
      "id": "KZUcMx3AmlUW"
    },
    {
      "cell_type": "code",
      "execution_count": null,
      "metadata": {
        "id": "OvIcJNasmyHF",
        "colab": {
          "base_uri": "https://localhost:8080/",
          "height": 620
        },
        "outputId": "85060028-a685-476f-b7ee-482d04912e63"
      },
      "outputs": [
        {
          "output_type": "execute_result",
          "data": {
            "text/plain": [
              "<seaborn.axisgrid.FacetGrid at 0x7fe4899e8090>"
            ]
          },
          "metadata": {},
          "execution_count": 29
        },
        {
          "output_type": "display_data",
          "data": {
            "text/plain": [
              "<Figure size 720x360 with 0 Axes>"
            ]
          },
          "metadata": {}
        },
        {
          "output_type": "display_data",
          "data": {
            "text/plain": [
              "<Figure size 576x576 with 1 Axes>"
            ],
            "image/png": "[encoded data removed]"
          },
          "metadata": {}
        }
      ],
      "source": [
        "plt.figure(figsize=(10,5))\n",
        "sns.catplot(data=df, \n",
        "            x=\"stroke\", \n",
        "            kind='count', height=8)"
      ],
      "id": "OvIcJNasmyHF"
    },
    {
      "cell_type": "markdown",
      "metadata": {
        "id": "a5ac41aa"
      },
      "source": [
        "# Preprocessing"
      ],
      "id": "a5ac41aa"
    },
    {
      "cell_type": "code",
      "execution_count": null,
      "metadata": {
        "id": "CJH_YlrHkIOx",
        "colab": {
          "base_uri": "https://localhost:8080/"
        },
        "outputId": "f8213c22-03a3-4fb0-db24-680410fbb293"
      },
      "outputs": [
        {
          "output_type": "execute_result",
          "data": {
            "text/plain": [
              "array(['Private', 'Self-employed', 'Govt_job', 'children', 'Never_worked'],\n",
              "      dtype=object)"
            ]
          },
          "metadata": {},
          "execution_count": 30
        }
      ],
      "source": [
        "df['work_type'].unique()"
      ],
      "id": "CJH_YlrHkIOx"
    },
    {
      "cell_type": "code",
      "execution_count": null,
      "metadata": {
        "id": "9RDhS89uIt6q",
        "colab": {
          "base_uri": "https://localhost:8080/"
        },
        "outputId": "6a5ed9bb-3d61-48e5-ef64-f6319aede933"
      },
      "outputs": [
        {
          "output_type": "execute_result",
          "data": {
            "text/plain": [
              "array(['Male', 'Female', 'Other'], dtype=object)"
            ]
          },
          "metadata": {},
          "execution_count": 31
        }
      ],
      "source": [
        "df['gender'].unique()"
      ],
      "id": "9RDhS89uIt6q"
    },
    {
      "cell_type": "code",
      "execution_count": null,
      "metadata": {
        "id": "zzHChlZPJtFq",
        "colab": {
          "base_uri": "https://localhost:8080/"
        },
        "outputId": "823fb6ba-fdd6-4213-8ff3-516dc413e6b9"
      },
      "outputs": [
        {
          "output_type": "execute_result",
          "data": {
            "text/plain": [
              "Female    2994\n",
              "Male      2115\n",
              "Other        1\n",
              "Name: gender, dtype: int64"
            ]
          },
          "metadata": {},
          "execution_count": 32
        }
      ],
      "source": [
        "df['gender'].value_counts()"
      ],
      "id": "zzHChlZPJtFq"
    },
    {
      "cell_type": "code",
      "execution_count": null,
      "metadata": {
        "id": "a_krYUp_JBHF",
        "colab": {
          "base_uri": "https://localhost:8080/"
        },
        "outputId": "28dde645-642a-4afc-95f3-ba508b28273a"
      },
      "outputs": [
        {
          "output_type": "execute_result",
          "data": {
            "text/plain": [
              "array(['Yes', 'No'], dtype=object)"
            ]
          },
          "metadata": {},
          "execution_count": 33
        }
      ],
      "source": [
        "df['ever_married'].unique()"
      ],
      "id": "a_krYUp_JBHF"
    },
    {
      "cell_type": "code",
      "execution_count": null,
      "metadata": {
        "id": "6nDEEn8cJS67",
        "colab": {
          "base_uri": "https://localhost:8080/"
        },
        "outputId": "b8d7245b-b89d-4489-8a7d-edc4ca8384ff"
      },
      "outputs": [
        {
          "output_type": "execute_result",
          "data": {
            "text/plain": [
              "array(['Private', 'Self-employed', 'Govt_job', 'children', 'Never_worked'],\n",
              "      dtype=object)"
            ]
          },
          "metadata": {},
          "execution_count": 34
        }
      ],
      "source": [
        "df['work_type'].unique()"
      ],
      "id": "6nDEEn8cJS67"
    },
    {
      "cell_type": "code",
      "execution_count": null,
      "metadata": {
        "id": "aVrbsqRlJfz6",
        "colab": {
          "base_uri": "https://localhost:8080/"
        },
        "outputId": "fdda9d4f-c228-441e-83c3-e40f7313324f"
      },
      "outputs": [
        {
          "output_type": "execute_result",
          "data": {
            "text/plain": [
              "array(['Urban', 'Rural'], dtype=object)"
            ]
          },
          "metadata": {},
          "execution_count": 35
        }
      ],
      "source": [
        "df['Residence_type'].unique()"
      ],
      "id": "aVrbsqRlJfz6"
    },
    {
      "cell_type": "code",
      "execution_count": null,
      "metadata": {
        "id": "uKwjIK4PJl96",
        "colab": {
          "base_uri": "https://localhost:8080/"
        },
        "outputId": "c45f79f6-0d8e-423f-c503-7e67f3f8bcea"
      },
      "outputs": [
        {
          "output_type": "execute_result",
          "data": {
            "text/plain": [
              "array(['formerly smoked', 'never smoked', 'smokes', 'Unknown'],\n",
              "      dtype=object)"
            ]
          },
          "metadata": {},
          "execution_count": 36
        }
      ],
      "source": [
        "df['smoking_status'].unique()"
      ],
      "id": "uKwjIK4PJl96"
    },
    {
      "cell_type": "markdown",
      "metadata": {
        "id": "oaMdF5lGlaJP"
      },
      "source": [
        "Menghapus value gender pada kolom gender"
      ],
      "id": "oaMdF5lGlaJP"
    },
    {
      "cell_type": "code",
      "execution_count": null,
      "metadata": {
        "id": "mJM1Y4xgGuHE"
      },
      "outputs": [],
      "source": [
        "df = df.drop('id', axis=1)"
      ],
      "id": "mJM1Y4xgGuHE"
    },
    {
      "cell_type": "code",
      "execution_count": null,
      "metadata": {
        "id": "gDReadWglhcb"
      },
      "outputs": [],
      "source": [
        "other_index = df[df['gender'] =='Other'].index\n",
        "df = df.drop(other_index)"
      ],
      "id": "gDReadWglhcb"
    },
    {
      "cell_type": "markdown",
      "metadata": {
        "id": "ScN7c8Hrl1l9"
      },
      "source": [
        "Mengisi Missing Value di BMI menggunakan Rata-Rata"
      ],
      "id": "ScN7c8Hrl1l9"
    },
    {
      "cell_type": "code",
      "execution_count": null,
      "metadata": {
        "id": "d_7HSHqsVMMG",
        "colab": {
          "base_uri": "https://localhost:8080/",
          "height": 394
        },
        "outputId": "54a7caee-339e-4fa4-b36f-d2f9a436da74"
      },
      "outputs": [
        {
          "output_type": "execute_result",
          "data": {
            "text/plain": [
              "                  Type Column Amount Null Values Percentage of Null Values\n",
              "gender                 object                  0                       0.0\n",
              "age                   float64                  0                       0.0\n",
              "hypertension            int64                  0                       0.0\n",
              "heart_disease           int64                  0                       0.0\n",
              "ever_married           object                  0                       0.0\n",
              "work_type              object                  0                       0.0\n",
              "Residence_type         object                  0                       0.0\n",
              "avg_glucose_level     float64                  0                       0.0\n",
              "bmi                   float64                201                  3.934234\n",
              "smoking_status         object                  0                       0.0\n",
              "stroke                  int64                  0                       0.0"
            ],
            "text/html": [
              "\n",
              "  <div id=\"df-c18c0d07-5b6d-44c2-a449-f1f068773715\">\n",
              "    <div class=\"colab-df-container\">\n",
              "      <div>\n",
              "<style scoped>\n",
              "    .dataframe tbody tr th:only-of-type {\n",
              "        vertical-align: middle;\n",
              "    }\n",
              "\n",
              "    .dataframe tbody tr th {\n",
              "        vertical-align: top;\n",
              "    }\n",
              "\n",
              "    .dataframe thead th {\n",
              "        text-align: right;\n",
              "    }\n",
              "</style>\n",
              "<table border=\"1\" class=\"dataframe\">\n",
              "  <thead>\n",
              "    <tr style=\"text-align: right;\">\n",
              "      <th></th>\n",
              "      <th>Type Column</th>\n",
              "      <th>Amount Null Values</th>\n",
              "      <th>Percentage of Null Values</th>\n",
              "    </tr>\n",
              "  </thead>\n",
              "  <tbody>\n",
              "    <tr>\n",
              "      <th>gender</th>\n",
              "      <td>object</td>\n",
              "      <td>0</td>\n",
              "      <td>0.0</td>\n",
              "    </tr>\n",
              "    <tr>\n",
              "      <th>age</th>\n",
              "      <td>float64</td>\n",
              "      <td>0</td>\n",
              "      <td>0.0</td>\n",
              "    </tr>\n",
              "    <tr>\n",
              "      <th>hypertension</th>\n",
              "      <td>int64</td>\n",
              "      <td>0</td>\n",
              "      <td>0.0</td>\n",
              "    </tr>\n",
              "    <tr>\n",
              "      <th>heart_disease</th>\n",
              "      <td>int64</td>\n",
              "      <td>0</td>\n",
              "      <td>0.0</td>\n",
              "    </tr>\n",
              "    <tr>\n",
              "      <th>ever_married</th>\n",
              "      <td>object</td>\n",
              "      <td>0</td>\n",
              "      <td>0.0</td>\n",
              "    </tr>\n",
              "    <tr>\n",
              "      <th>work_type</th>\n",
              "      <td>object</td>\n",
              "      <td>0</td>\n",
              "      <td>0.0</td>\n",
              "    </tr>\n",
              "    <tr>\n",
              "      <th>Residence_type</th>\n",
              "      <td>object</td>\n",
              "      <td>0</td>\n",
              "      <td>0.0</td>\n",
              "    </tr>\n",
              "    <tr>\n",
              "      <th>avg_glucose_level</th>\n",
              "      <td>float64</td>\n",
              "      <td>0</td>\n",
              "      <td>0.0</td>\n",
              "    </tr>\n",
              "    <tr>\n",
              "      <th>bmi</th>\n",
              "      <td>float64</td>\n",
              "      <td>201</td>\n",
              "      <td>3.934234</td>\n",
              "    </tr>\n",
              "    <tr>\n",
              "      <th>smoking_status</th>\n",
              "      <td>object</td>\n",
              "      <td>0</td>\n",
              "      <td>0.0</td>\n",
              "    </tr>\n",
              "    <tr>\n",
              "      <th>stroke</th>\n",
              "      <td>int64</td>\n",
              "      <td>0</td>\n",
              "      <td>0.0</td>\n",
              "    </tr>\n",
              "  </tbody>\n",
              "</table>\n",
              "</div>\n",
              "      <button class=\"colab-df-convert\" onclick=\"convertToInteractive('df-c18c0d07-5b6d-44c2-a449-f1f068773715')\"\n",
              "              title=\"Convert this dataframe to an interactive table.\"\n",
              "              style=\"display:none;\">\n",
              "        \n",
              "  <svg xmlns=\"http://www.w3.org/2000/svg\" height=\"24px\"viewBox=\"0 0 24 24\"\n",
              "       width=\"24px\">\n",
              "    <path d=\"M0 0h24v24H0V0z\" fill=\"none\"/>\n",
              "    <path d=\"M18.56 5.44l.94 2.06.94-2.06 2.06-.94-2.06-.94-.94-2.06-.94 2.06-2.06.94zm-11 1L8.5 8.5l.94-2.06 2.06-.94-2.06-.94L8.5 2.5l-.94 2.06-2.06.94zm10 10l.94 2.06.94-2.06 2.06-.94-2.06-.94-.94-2.06-.94 2.06-2.06.94z\"/><path d=\"M17.41 7.96l-1.37-1.37c-.4-.4-.92-.59-1.43-.59-.52 0-1.04.2-1.43.59L10.3 9.45l-7.72 7.72c-.78.78-.78 2.05 0 2.83L4 21.41c.39.39.9.59 1.41.59.51 0 1.02-.2 1.41-.59l7.78-7.78 2.81-2.81c.8-.78.8-2.07 0-2.86zM5.41 20L4 18.59l7.72-7.72 1.47 1.35L5.41 20z\"/>\n",
              "  </svg>\n",
              "      </button>\n",
              "      \n",
              "  <style>\n",
              "    .colab-df-container {\n",
              "      display:flex;\n",
              "      flex-wrap:wrap;\n",
              "      gap: 12px;\n",
              "    }\n",
              "\n",
              "    .colab-df-convert {\n",
              "      background-color: #E8F0FE;\n",
              "      border: none;\n",
              "      border-radius: 50%;\n",
              "      cursor: pointer;\n",
              "      display: none;\n",
              "      fill: #1967D2;\n",
              "      height: 32px;\n",
              "      padding: 0 0 0 0;\n",
              "      width: 32px;\n",
              "    }\n",
              "\n",
              "    .colab-df-convert:hover {\n",
              "      background-color: #E2EBFA;\n",
              "      box-shadow: 0px 1px 2px rgba(60, 64, 67, 0.3), 0px 1px 3px 1px rgba(60, 64, 67, 0.15);\n",
              "      fill: #174EA6;\n",
              "    }\n",
              "\n",
              "    [theme=dark] .colab-df-convert {\n",
              "      background-color: #3B4455;\n",
              "      fill: #D2E3FC;\n",
              "    }\n",
              "\n",
              "    [theme=dark] .colab-df-convert:hover {\n",
              "      background-color: #434B5C;\n",
              "      box-shadow: 0px 1px 3px 1px rgba(0, 0, 0, 0.15);\n",
              "      filter: drop-shadow(0px 1px 2px rgba(0, 0, 0, 0.3));\n",
              "      fill: #FFFFFF;\n",
              "    }\n",
              "  </style>\n",
              "\n",
              "      <script>\n",
              "        const buttonEl =\n",
              "          document.querySelector('#df-c18c0d07-5b6d-44c2-a449-f1f068773715 button.colab-df-convert');\n",
              "        buttonEl.style.display =\n",
              "          google.colab.kernel.accessAllowed ? 'block' : 'none';\n",
              "\n",
              "        async function convertToInteractive(key) {\n",
              "          const element = document.querySelector('#df-c18c0d07-5b6d-44c2-a449-f1f068773715');\n",
              "          const dataTable =\n",
              "            await google.colab.kernel.invokeFunction('convertToInteractive',\n",
              "                                                     [key], {});\n",
              "          if (!dataTable) return;\n",
              "\n",
              "          const docLinkHtml = 'Like what you see? Visit the ' +\n",
              "            '<a target=\"_blank\" href=https://colab.research.google.com/notebooks/data_table.ipynb>data table notebook</a>'\n",
              "            + ' to learn more about interactive tables.';\n",
              "          element.innerHTML = '';\n",
              "          dataTable['output_type'] = 'display_data';\n",
              "          await google.colab.output.renderOutput(dataTable, element);\n",
              "          const docLink = document.createElement('div');\n",
              "          docLink.innerHTML = docLinkHtml;\n",
              "          element.appendChild(docLink);\n",
              "        }\n",
              "      </script>\n",
              "    </div>\n",
              "  </div>\n",
              "  "
            ]
          },
          "metadata": {},
          "execution_count": 39
        }
      ],
      "source": [
        "type_null = pd.DataFrame(df.dtypes).T.rename(index={0:'Type Column'})\n",
        "type_null2 = pd.DataFrame(df.isnull().sum()).T.rename(index={0:'Amount Null Values'})\n",
        "type_null3 = pd.DataFrame(df.isnull().sum()/df.shape[0]*100).T.rename(index = {0:'Percentage of Null Values'})\n",
        "type_null.append([type_null2, type_null3]).T\n"
      ],
      "id": "d_7HSHqsVMMG"
    },
    {
      "cell_type": "code",
      "execution_count": null,
      "metadata": {
        "id": "bd9970b7"
      },
      "outputs": [],
      "source": [
        "df['bmi'] = df['bmi'].fillna(df['bmi'].mean())"
      ],
      "id": "bd9970b7"
    },
    {
      "cell_type": "markdown",
      "metadata": {
        "id": "GEjfq3xImIou"
      },
      "source": [
        "Label encoder"
      ],
      "id": "GEjfq3xImIou"
    },
    {
      "cell_type": "code",
      "execution_count": null,
      "metadata": {
        "id": "ZsM_a-ovkTO-"
      },
      "outputs": [],
      "source": [
        "from sklearn.preprocessing import LabelEncoder\n",
        "le = LabelEncoder()"
      ],
      "id": "ZsM_a-ovkTO-"
    },
    {
      "cell_type": "code",
      "execution_count": null,
      "metadata": {
        "id": "i5eFPyUrvdbu"
      },
      "outputs": [],
      "source": [
        "object_col = [col for col in df.columns if df[col].dtype == 'object']\n",
        "for col in object_col:\n",
        "    df[col] = le.fit_transform(df[col])"
      ],
      "id": "i5eFPyUrvdbu"
    },
    {
      "cell_type": "markdown",
      "metadata": {
        "id": "42Zr0295mNAY"
      },
      "source": [
        "Melihat jumlah kolom "
      ],
      "id": "42Zr0295mNAY"
    },
    {
      "cell_type": "code",
      "execution_count": null,
      "metadata": {
        "id": "fwPZFBQDmv3Z",
        "colab": {
          "base_uri": "https://localhost:8080/"
        },
        "outputId": "bde66889-963c-4516-bdf3-757a189027b5"
      },
      "outputs": [
        {
          "output_type": "execute_result",
          "data": {
            "text/plain": [
              "0    4860\n",
              "1     249\n",
              "Name: stroke, dtype: int64"
            ]
          },
          "metadata": {},
          "execution_count": 43
        }
      ],
      "source": [
        "df['stroke'].value_counts()"
      ],
      "id": "fwPZFBQDmv3Z"
    },
    {
      "cell_type": "markdown",
      "metadata": {
        "id": "pGFJhMdSm1Nm"
      },
      "source": [
        "?????Membuat features dan taget untuk manchine learning??????"
      ],
      "id": "pGFJhMdSm1Nm"
    },
    {
      "cell_type": "code",
      "execution_count": null,
      "metadata": {
        "id": "0c0da28e"
      },
      "outputs": [],
      "source": [
        "X = df.drop('stroke', axis=1)\n",
        "y = df.pop('stroke')"
      ],
      "id": "0c0da28e"
    },
    {
      "cell_type": "markdown",
      "metadata": {
        "id": "6259ccd9"
      },
      "source": [
        "### Spliting our data into training and test sets."
      ],
      "id": "6259ccd9"
    },
    {
      "cell_type": "code",
      "execution_count": null,
      "metadata": {
        "id": "2c4490c4",
        "colab": {
          "base_uri": "https://localhost:8080/"
        },
        "outputId": "2223dc1c-5f8b-46bf-80f1-2b6d69e03a08"
      },
      "outputs": [
        {
          "output_type": "stream",
          "name": "stdout",
          "text": [
            "X_train =  (3576, 10)\n",
            "X_test =  (1533, 10)\n",
            "y_train =  (3576,)\n",
            "y_test =  (1533,)\n"
          ]
        }
      ],
      "source": [
        "from sklearn.model_selection import train_test_split,cross_val_score\n",
        "\n",
        "X_train, X_test, y_train, y_test =  train_test_split(X, y, test_size = 0.3, random_state = 20)\n",
        "\n",
        "print('X_train = ', X_train.shape)\n",
        "print('X_test = ', X_test.shape)\n",
        "print('y_train = ', y_train.shape)\n",
        "print('y_test = ', y_test.shape)"
      ],
      "id": "2c4490c4"
    },
    {
      "cell_type": "markdown",
      "metadata": {
        "id": "VIS9rhlpKSpj"
      },
      "source": [
        "Feature Scalling"
      ],
      "id": "VIS9rhlpKSpj"
    },
    {
      "cell_type": "code",
      "execution_count": null,
      "metadata": {
        "id": "SU3dg7fZYMCF"
      },
      "outputs": [],
      "source": [
        "from sklearn.preprocessing import StandardScaler\n",
        "sc = StandardScaler()\n",
        "X_train_sc = sc.fit_transform(X_train)\n",
        "X_test_sc = sc.transform(X_test)"
      ],
      "id": "SU3dg7fZYMCF"
    },
    {
      "cell_type": "markdown",
      "metadata": {
        "id": "DLNFyn7xcJC2"
      },
      "source": [
        "Balance data dengan sampling strategi sebanyak 40%"
      ],
      "id": "DLNFyn7xcJC2"
    },
    {
      "cell_type": "code",
      "execution_count": null,
      "metadata": {
        "id": "826aO9WvhQ_l",
        "colab": {
          "base_uri": "https://localhost:8080/"
        },
        "outputId": "da4baefb-72e6-44ba-a263-4c60931d065a"
      },
      "outputs": [
        {
          "output_type": "stream",
          "name": "stdout",
          "text": [
            "Counter({0: 3402, 1: 174})\n",
            "Counter({0: 3402, 1: 1360})\n"
          ]
        }
      ],
      "source": [
        "from imblearn.over_sampling import RandomOverSampler\n",
        "from collections import Counter\n",
        "\n",
        "oversample = RandomOverSampler(sampling_strategy=0.4) #set your strategy\n",
        "X_train_over, y_train_over = oversample.fit_resample(X_train, y_train)\n",
        "\n",
        "print(Counter(y_train))\n",
        "print(Counter(y_train_over))"
      ],
      "id": "826aO9WvhQ_l"
    },
    {
      "cell_type": "markdown",
      "metadata": {
        "id": "59s_rMV0KASz"
      },
      "source": [
        "#Modeling"
      ],
      "id": "59s_rMV0KASz"
    },
    {
      "cell_type": "code",
      "execution_count": null,
      "metadata": {
        "id": "SviG-NLWn7Ib"
      },
      "outputs": [],
      "source": [
        "from sklearn.svm import SVC  \n",
        "svm = SVC(C=100).fit(X_train_over, y_train_over)\n",
        "\n",
        "y_pred = svm.predict(X_test)\n",
        "\n",
        "#model = SVC().fit(x_train, y_train)\n",
        "\n",
        "#y_pred = model.predict(x_test)\n",
        "\n"
      ],
      "id": "SviG-NLWn7Ib"
    },
    {
      "cell_type": "code",
      "source": [
        "print('prediksi hasil training :', svm.score(X_train_over, y_train_over))"
      ],
      "metadata": {
        "id": "0cjDzyJ88wn6",
        "colab": {
          "base_uri": "https://localhost:8080/"
        },
        "outputId": "0587be69-5280-4fdd-f640-c12777c8e9e8"
      },
      "id": "0cjDzyJ88wn6",
      "execution_count": null,
      "outputs": [
        {
          "output_type": "stream",
          "name": "stdout",
          "text": [
            "prediksi hasil training : 0.7870642587148257\n"
          ]
        }
      ]
    },
    {
      "cell_type": "markdown",
      "metadata": {
        "id": "xXDWdweDJ9CO"
      },
      "source": [
        "#Evaluasi Metrics"
      ],
      "id": "xXDWdweDJ9CO"
    },
    {
      "cell_type": "code",
      "execution_count": null,
      "metadata": {
        "id": "zELuSHE2Hf_u",
        "colab": {
          "base_uri": "https://localhost:8080/"
        },
        "outputId": "e1b689af-844f-4007-e3c8-99856ea41f23"
      },
      "outputs": [
        {
          "output_type": "stream",
          "name": "stdout",
          "text": [
            "SVC model accuary 0.8401826484018264\n",
            "[[1240  218]\n",
            " [  27   48]]\n"
          ]
        }
      ],
      "source": [
        "ac = accuracy_score(y_test,y_pred)\n",
        "con = confusion_matrix(y_test, y_pred)\n",
        "accuracies = []\n",
        "accuracies.append(ac)\n",
        "print(\"SVC model accuary\",ac)\n",
        "print(con)"
      ],
      "id": "zELuSHE2Hf_u"
    },
    {
      "cell_type": "code",
      "execution_count": null,
      "metadata": {
        "id": "1-5iMkbeJKOa",
        "colab": {
          "base_uri": "https://localhost:8080/"
        },
        "outputId": "2c36909b-3394-412f-c20d-8cbc4ef1c45b"
      },
      "outputs": [
        {
          "output_type": "stream",
          "name": "stdout",
          "text": [
            "              precision    recall  f1-score   support\n",
            "\n",
            "           0       0.98      0.85      0.91      1458\n",
            "           1       0.18      0.64      0.28        75\n",
            "\n",
            "    accuracy                           0.84      1533\n",
            "   macro avg       0.58      0.75      0.60      1533\n",
            "weighted avg       0.94      0.84      0.88      1533\n",
            "\n",
            "Accuracy Score:  0.8401826484018264\n",
            "F1 Score:  0.28152492668621704\n"
          ]
        }
      ],
      "source": [
        "from sklearn.metrics import classification_report\n",
        "from sklearn.metrics import accuracy_score, f1_score\n",
        "print(classification_report(y_test, y_pred))\n",
        "\n",
        "print('Accuracy Score: ',accuracy_score(y_test,y_pred))\n",
        "print('F1 Score: ',f1_score(y_test,y_pred))"
      ],
      "id": "1-5iMkbeJKOa"
    },
    {
      "cell_type": "code",
      "execution_count": null,
      "metadata": {
        "id": "cg8GvLjLrIYm",
        "colab": {
          "base_uri": "https://localhost:8080/"
        },
        "outputId": "e00840db-2b40-4700-c8e9-6e639c4a32cd"
      },
      "outputs": [
        {
          "output_type": "stream",
          "name": "stdout",
          "text": [
            "Accuracy: 0.840\n"
          ]
        }
      ],
      "source": [
        "print('Accuracy: %.3f' % accuracy_score(y_test, y_pred))"
      ],
      "id": "cg8GvLjLrIYm"
    }
  ],
  "metadata": {
    "colab": {
      "collapsed_sections": [],
      "provenance": []
    },
    "kernelspec": {
      "display_name": "Python 3",
      "language": "python",
      "name": "python3"
    },
    "language_info": {
      "codemirror_mode": {
        "name": "ipython",
        "version": 3
      },
      "file_extension": ".py",
      "mimetype": "text/x-python",
      "name": "python",
      "nbconvert_exporter": "python",
      "pygments_lexer": "ipython3",
      "version": "3.7.10"
    },
    "papermill": {
      "default_parameters": {},
      "duration": 169.809154,
      "end_time": "2021-11-17T11:51:22.975639",
      "environment_variables": {},
      "exception": null,
      "input_path": "__notebook__.ipynb",
      "output_path": "__notebook__.ipynb",
      "parameters": {},
      "start_time": "2021-11-17T11:48:33.166485",
      "version": "2.3.3"
    }
  },
  "nbformat": 4,
  "nbformat_minor": 5
}